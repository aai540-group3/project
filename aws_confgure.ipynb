{
  "nbformat": 4,
  "nbformat_minor": 0,
  "metadata": {
    "colab": {
      "provenance": [],
      "authorship_tag": "ABX9TyNyc5e9xLuwdVfbuig+GxO7",
      "include_colab_link": true
    },
    "kernelspec": {
      "name": "python3",
      "display_name": "Python 3"
    },
    "language_info": {
      "name": "python"
    }
  },
  "cells": [
    {
      "cell_type": "markdown",
      "metadata": {
        "id": "view-in-github",
        "colab_type": "text"
      },
      "source": [
        "<a href=\"https://colab.research.google.com/github/aai540-group3/project/blob/main/aws_confgure.ipynb\" target=\"_parent\"><img src=\"https://colab.research.google.com/assets/colab-badge.svg\" alt=\"Open In Colab\"/></a>"
      ]
    },
    {
      "cell_type": "markdown",
      "source": [
        "# Configure AWS"
      ],
      "metadata": {
        "id": "tZLo3O5nulFP"
      }
    },
    {
      "cell_type": "markdown",
      "source": [
        "## Install Dependencies"
      ],
      "metadata": {
        "id": "H_2zlTikuiJn"
      }
    },
    {
      "cell_type": "code",
      "execution_count": null,
      "metadata": {
        "id": "aHj6RyRPJNGN"
      },
      "outputs": [],
      "source": [
        "%%bash\n",
        "\n",
        "# INSTALL: uv\n",
        "# Rust-based Python Package Management\n",
        "pip install --quiet --progress-bar=off uv\n",
        "\n",
        "# INSTALL: boto3\n",
        "# AWS SDK (Software Development Kit) for Python\n",
        "uv pip install --system --quiet boto3\n",
        "\n",
        "mkdir -p /root/.aws"
      ]
    },
    {
      "cell_type": "markdown",
      "source": [
        "## Add Credentials to Google Colab"
      ],
      "metadata": {
        "id": "rHljymEEudCT"
      }
    },
    {
      "cell_type": "code",
      "source": [
        "from google.colab import userdata\n",
        "from google.colab.userdata import SecretNotFoundError\n",
        "\n",
        "def get_aws_credential(credential_name):\n",
        "    \"\"\"\n",
        "    Retrieve an AWS credential from Google Colab Secrets.\n",
        "\n",
        "    :param credential_name: The name of the credential to retrieve\n",
        "    :type credential_name: str\n",
        "    :return: The retrieved credential value\n",
        "    :rtype: str\n",
        "    :raises SecretNotFoundError: If the specified credential is not found in Colab Secrets\n",
        "    \"\"\"\n",
        "    try:\n",
        "        return userdata.get(credential_name)\n",
        "    except SecretNotFoundError as e:\n",
        "        print(f\"Error: '{credential_name}' not found.\")\n",
        "        print_secret_setup_instructions(credential_name)\n",
        "        raise\n",
        "\n",
        "def print_secret_setup_instructions(secret_name):\n",
        "    \"\"\"\n",
        "    Print instructions for setting up a secret in Google Colab Secrets UI.\n",
        "\n",
        "    :param secret_name: The name of the secret to set up\n",
        "    :type secret_name: str\n",
        "    \"\"\"\n",
        "    print(f\"To set it manually in the Google Colab Secrets UI:\")\n",
        "    print(\"1. Click the key icon on the left sidebar to open the 'Secrets' pane.\")\n",
        "    print(\"2. Click the '+' button to add a new secret.\")\n",
        "    print(f\"3. Enter '{secret_name}' as the name and your actual AWS credential as the value.\")\n",
        "    print(\"4. Save the secret and rerun the code cell.\")\n",
        "\n",
        "def main():\n",
        "    \"\"\"\n",
        "    Main function to retrieve AWS credentials from Google Colab Secrets.\n",
        "\n",
        "    :return: A dictionary indicating whether each credential was successfully loaded\n",
        "    :rtype: dict\n",
        "    \"\"\"\n",
        "    credentials_status = {}\n",
        "    credential_names = ['AWS_ACCESS_KEY_ID', 'AWS_SECRET_ACCESS_KEY']\n",
        "\n",
        "    for credential_name in credential_names:\n",
        "        try:\n",
        "            get_aws_credential(credential_name)\n",
        "            credentials_status[credential_name] = True\n",
        "            print(f\"{credential_name}: LOADED SECRET\")\n",
        "        except SecretNotFoundError:\n",
        "            credentials_status[credential_name] = False\n",
        "            print(f\"{credential_name}: FAILED TO LOAD SECRET\")\n",
        "\n",
        "    return credentials_status\n",
        "\n",
        "if __name__ == \"__main__\":\n",
        "    main()"
      ],
      "metadata": {
        "colab": {
          "base_uri": "https://localhost:8080/"
        },
        "id": "Inlwv8K4oSak",
        "outputId": "255c9ef9-9b83-4ab1-ed60-6748338bed37"
      },
      "execution_count": 52,
      "outputs": [
        {
          "output_type": "stream",
          "name": "stdout",
          "text": [
            "AWS_ACCESS_KEY_ID: LOADED SECRET\n",
            "AWS_SECRET_ACCESS_KEY: LOADED SECRET\n"
          ]
        }
      ]
    },
    {
      "cell_type": "markdown",
      "source": [
        "## Create Credential And Config Files"
      ],
      "metadata": {
        "id": "hCpRahcTuqPD"
      }
    },
    {
      "cell_type": "code",
      "source": [
        "import os\n",
        "import textwrap\n",
        "\n",
        "def write_aws_credentials(aws_access_key_id, aws_secret_access_key, file_path=\"/root/.aws/credentials\"):\n",
        "    \"\"\"\n",
        "    Write AWS credentials to a file.\n",
        "\n",
        "    :param aws_access_key_id: The AWS access key ID\n",
        "    :type aws_access_key_id: str\n",
        "    :param aws_secret_access_key: The AWS secret access key\n",
        "    :type aws_secret_access_key: str\n",
        "    :param file_path: The path to the credentials file (default: \"/root/.aws/credentials\")\n",
        "    :type file_path: str\n",
        "    \"\"\"\n",
        "    credentials_content = textwrap.dedent(f\"\"\"\n",
        "    [default]\n",
        "    aws_access_key_id = {aws_access_key_id}\n",
        "    aws_secret_access_key = {aws_secret_access_key}\n",
        "    \"\"\").strip()\n",
        "    write_file(file_path, credentials_content)\n",
        "\n",
        "def write_aws_config(region=\"us-west-2\", file_path=\"/root/.aws/config\"):\n",
        "    \"\"\"\n",
        "    Write AWS config to a file.\n",
        "\n",
        "    :param region: The AWS region (default: \"us-west-2\")\n",
        "    :type region: str\n",
        "    :param file_path: The path to the config file (default: \"/root/.aws/config\")\n",
        "    :type file_path: str\n",
        "    \"\"\"\n",
        "    config_content = textwrap.dedent(f\"\"\"\n",
        "    [default]\n",
        "    region = {region}\n",
        "    \"\"\").strip()\n",
        "    write_file(file_path, config_content)\n",
        "\n",
        "def write_file(file_path, content):\n",
        "    \"\"\"\n",
        "    Write content to a file, creating the directory if it doesn't exist.\n",
        "\n",
        "    :param file_path: The path to the file\n",
        "    :type file_path: str\n",
        "    :param content: The content to write to the file\n",
        "    :type content: str\n",
        "    \"\"\"\n",
        "    directory = os.path.dirname(file_path)\n",
        "    os.makedirs(directory, exist_ok=True)\n",
        "\n",
        "    with open(file_path, \"w\") as f:\n",
        "        f.write(content)\n",
        "\n",
        "def setup_aws_credentials_and_config(aws_access_key_id, aws_secret_access_key, region=\"us-west-2\"):\n",
        "    \"\"\"\n",
        "    Set up AWS credentials and config files.\n",
        "\n",
        "    :param aws_access_key_id: The AWS access key ID\n",
        "    :type aws_access_key_id: str\n",
        "    :param aws_secret_access_key: The AWS secret access key\n",
        "    :type aws_secret_access_key: str\n",
        "    :param region: The AWS region (default: \"us-west-2\")\n",
        "    :type region: str\n",
        "    \"\"\"\n",
        "    write_aws_credentials(aws_access_key_id, aws_secret_access_key)\n",
        "    write_aws_config(region)\n",
        "    print(\"AWS credentials and config files have been created successfully.\")\n",
        "\n",
        "if __name__ == \"__main__\":\n",
        "    setup_aws_credentials_and_config(aws_access_key_id, aws_secret_access_key)"
      ],
      "metadata": {
        "id": "_PVRcQu6nNXN",
        "colab": {
          "base_uri": "https://localhost:8080/"
        },
        "outputId": "1a7a945e-0e89-48a7-8c6c-bf10f07a8371"
      },
      "execution_count": 53,
      "outputs": [
        {
          "output_type": "stream",
          "name": "stdout",
          "text": [
            "AWS credentials and config files have been created successfully.\n"
          ]
        }
      ]
    },
    {
      "cell_type": "markdown",
      "source": [
        "## Test Credentials"
      ],
      "metadata": {
        "id": "KsEri7LuuvoS"
      }
    },
    {
      "cell_type": "code",
      "source": [
        "import boto3\n",
        "from botocore.exceptions import BotoCoreError, ClientError\n",
        "\n",
        "def create_aws_session(profile_name='default'):\n",
        "    \"\"\"\n",
        "    Create an AWS session using the specified profile.\n",
        "\n",
        "    :param profile_name: The name of the AWS profile to use (default: 'default')\n",
        "    :type profile_name: str\n",
        "    :return: An AWS session object\n",
        "    :rtype: boto3.Session\n",
        "    \"\"\"\n",
        "    return boto3.Session(profile_name=profile_name)\n",
        "\n",
        "def get_aws_identity(session):\n",
        "    \"\"\"\n",
        "    Retrieve the AWS identity information using the provided session.\n",
        "\n",
        "    :param session: The AWS session to use\n",
        "    :type session: boto3.Session\n",
        "    :return: The response from the get_caller_identity API call\n",
        "    :rtype: dict\n",
        "    :raises BotoCoreError: If there's an error in the boto3 core\n",
        "    :raises ClientError: If there's an error in the client's request\n",
        "    \"\"\"\n",
        "    sts_client = session.client('sts')\n",
        "    return sts_client.get_caller_identity()\n",
        "\n",
        "def check_aws_authentication(profile_name='default'):\n",
        "    \"\"\"\n",
        "    Check AWS authentication by attempting to retrieve the caller's identity.\n",
        "\n",
        "    :param profile_name: The name of the AWS profile to use (default: 'default')\n",
        "    :type profile_name: str\n",
        "    :return: A boolean indicating whether authentication was successful\n",
        "    :rtype: bool\n",
        "    \"\"\"\n",
        "    try:\n",
        "        session = create_aws_session(profile_name)\n",
        "        get_aws_identity(session)\n",
        "        return True\n",
        "    except (BotoCoreError, ClientError):\n",
        "        return False\n",
        "\n",
        "def main():\n",
        "    \"\"\"\n",
        "    Main function to check AWS authentication and print the status.\n",
        "    \"\"\"\n",
        "    is_authenticated = check_aws_authentication()\n",
        "    status = \"AUTHENTICATED\" if is_authenticated else \"NOT AUTHENTICATED\"\n",
        "    print(f\"STATUS: {status}\")\n",
        "\n",
        "if __name__ == \"__main__\":\n",
        "    main()"
      ],
      "metadata": {
        "id": "GI-Q0hiYjKSy",
        "colab": {
          "base_uri": "https://localhost:8080/"
        },
        "outputId": "3db378da-e2de-4da0-815c-2160307790b2"
      },
      "execution_count": 57,
      "outputs": [
        {
          "output_type": "stream",
          "name": "stdout",
          "text": [
            "STATUS: AUTHENTICATED\n"
          ]
        }
      ]
    },
    {
      "cell_type": "markdown",
      "source": [
        "## Add Users to Organization"
      ],
      "metadata": {
        "id": "hVEy9nzOxNoG"
      }
    },
    {
      "cell_type": "code",
      "source": [
        "import boto3\n",
        "import time\n",
        "\n",
        "def check_account_exists(email):\n",
        "    \"\"\"\n",
        "    Check if an AWS account with the given email already exists.\n",
        "\n",
        "    :param email: The email address to check\n",
        "    :type email: str\n",
        "    :return: True if the account exists, False otherwise\n",
        "    :rtype: bool\n",
        "    \"\"\"\n",
        "    org_client = boto3.client('organizations')\n",
        "    paginator = org_client.get_paginator('list_accounts')\n",
        "\n",
        "    for page in paginator.paginate():\n",
        "        for account in page['Accounts']:\n",
        "            if account['Email'] == email:\n",
        "                return True\n",
        "    return False\n",
        "\n",
        "def create_account(email):\n",
        "    \"\"\"\n",
        "    Create a new AWS account with the given email.\n",
        "\n",
        "    :param email: The email address for the new account\n",
        "    :type email: str\n",
        "    :return: The create account status ID if successful, None otherwise\n",
        "    :rtype: str or None\n",
        "    \"\"\"\n",
        "    org_client = boto3.client('organizations')\n",
        "    try:\n",
        "        response = org_client.create_account(\n",
        "            Email=email,\n",
        "            AccountName=email,\n",
        "            RoleName='OrganizationAccountAccessRole'\n",
        "        )\n",
        "        return response['CreateAccountStatus']['Id']\n",
        "    except Exception as e:\n",
        "        print(f\"Error creating account for {email}: {e}\")\n",
        "        return None\n",
        "\n",
        "def track_account_creation(create_status_id, email):\n",
        "    \"\"\"\n",
        "    Track the status of an account creation request.\n",
        "\n",
        "    :param create_status_id: The ID of the create account request\n",
        "    :type create_status_id: str\n",
        "    :param email: The email address of the account being created\n",
        "    :type email: str\n",
        "    :return: None\n",
        "    \"\"\"\n",
        "    org_client = boto3.client('organizations')\n",
        "    while True:\n",
        "        try:\n",
        "            status_response = org_client.describe_create_account_status(\n",
        "                CreateAccountRequestId=create_status_id\n",
        "            )\n",
        "            status = status_response['CreateAccountStatus']['State']\n",
        "            if status == 'SUCCEEDED':\n",
        "                print(f\"SUCCEEDED: {status_response['CreateAccountStatus']['AccountId']}\")\n",
        "                break\n",
        "            elif status == 'FAILED':\n",
        "                print(f\"FAILED: {status_response['CreateAccountStatus']['FailureReason']}\")\n",
        "                break\n",
        "            else:\n",
        "                print(f\"CREATING: {email}\")\n",
        "                print(f\"    STATUS: {status}\")\n",
        "                time.sleep(10)\n",
        "        except Exception as e:\n",
        "            print(f\"Error tracking account creation: {e}\")\n",
        "            break\n",
        "\n",
        "def main():\n",
        "    \"\"\"\n",
        "    Main function to create AWS accounts for a list of email addresses.\n",
        "    \"\"\"\n",
        "    emails_to_create = [\n",
        "        'jagustin@sandiego.edu',\n",
        "        'lvo@sandiego.edu',\n",
        "        'zrobertson@sandiego.edu'\n",
        "    ]\n",
        "\n",
        "    for email in emails_to_create:\n",
        "        if check_account_exists(email):\n",
        "            print(f\"EXISTS: {email}\")\n",
        "        else:\n",
        "            create_status_id = create_account(email)\n",
        "            if create_status_id:\n",
        "                print(f\"CREATING: {email}\")\n",
        "                track_account_creation(create_status_id, email)\n",
        "\n",
        "if __name__ == \"__main__\":\n",
        "    main()"
      ],
      "metadata": {
        "colab": {
          "base_uri": "https://localhost:8080/"
        },
        "id": "7s9Q040OvcoP",
        "outputId": "daff8dce-85ee-4dcf-fff1-3dcee7b2a613"
      },
      "execution_count": 43,
      "outputs": [
        {
          "output_type": "stream",
          "name": "stdout",
          "text": [
            "EXISTS: jagustin@sandiego.edu\n",
            "EXISTS: lvo@sandiego.edu\n",
            "EXISTS: zrobertson@sandiego.edu\n"
          ]
        }
      ]
    }
  ]
}
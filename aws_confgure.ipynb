{
  "nbformat": 4,
  "nbformat_minor": 0,
  "metadata": {
    "colab": {
      "provenance": [],
      "authorship_tag": "ABX9TyP9N5IV3H5pWAjPivey33GL",
      "include_colab_link": true
    },
    "kernelspec": {
      "name": "python3",
      "display_name": "Python 3"
    },
    "language_info": {
      "name": "python"
    }
  },
  "cells": [
    {
      "cell_type": "markdown",
      "metadata": {
        "id": "view-in-github",
        "colab_type": "text"
      },
      "source": [
        "<a href=\"https://colab.research.google.com/github/aai540-group3/project/blob/main/aws_confgure.ipynb\" target=\"_parent\"><img src=\"https://colab.research.google.com/assets/colab-badge.svg\" alt=\"Open In Colab\"/></a>"
      ]
    },
    {
      "cell_type": "markdown",
      "source": [
        "# Configure AWS"
      ],
      "metadata": {
        "id": "tZLo3O5nulFP"
      }
    },
    {
      "cell_type": "markdown",
      "source": [
        "## Install Dependencies"
      ],
      "metadata": {
        "id": "H_2zlTikuiJn"
      }
    },
    {
      "cell_type": "code",
      "execution_count": null,
      "metadata": {
        "id": "aHj6RyRPJNGN"
      },
      "outputs": [],
      "source": [
        "%%bash\n",
        "\n",
        "# INSTALL: uv\n",
        "# Rust-based Python Package Management\n",
        "pip install --quiet --progress-bar=off uv\n",
        "\n",
        "# INSTALL: boto3\n",
        "# AWS SDK (Software Development Kit) for Python\n",
        "uv pip install --system --quiet boto3\n",
        "\n",
        "mkdir -p /root/.aws"
      ]
    },
    {
      "cell_type": "markdown",
      "source": [
        "## Add Credentials to Google Colab"
      ],
      "metadata": {
        "id": "rHljymEEudCT"
      }
    },
    {
      "cell_type": "code",
      "source": [
        "from google.colab import userdata\n",
        "from google.colab.userdata import SecretNotFoundError\n",
        "\n",
        "try:\n",
        "    aws_access_key_id = userdata.get('AWS_ACCESS_KEY_ID')\n",
        "except SecretNotFoundError as e:\n",
        "    print(f\"Error: 'AWS_ACCESS_KEY_ID' not found.\\n\"\n",
        "        \"To set it manually in the Google Colab Secrets UI:\\n\"\n",
        "        \"1. Click the key icon on the left sidebar to open the 'Secrets' pane.\\n\"\n",
        "        \"2. Click the '+' button to add a new secret.\\n\"\n",
        "        \"3. Enter 'AWS_ACCESS_KEY_ID' as the name and your actual AWS Access Key ID as the value.\\n\"\n",
        "        \"4. Save the secret and rerun the code cell.\")\n",
        "print()\n",
        "try:\n",
        "    aws_secret_access_key = userdata.get('AWS_SECRET_ACCESS_KEY')\n",
        "except SecretNotFoundError as e:\n",
        "    print(f\"Error: 'AWS_SECRET_ACCESS_KEY' not found.\\n\"\n",
        "        \"To set it manually in the Google Colab Secrets UI:\\n\"\n",
        "        \"1. Click the key icon on the left sidebar to open the 'Secrets' pane.\\n\"\n",
        "        \"2. Click the '+' button to add a new secret.\\n\"\n",
        "        \"3. Enter 'AWS_SECRET_ACCESS_KEY' as the name and your actual AWS Secret Access Key as the value.\\n\"\n",
        "        \"4. Save the secret and rerun the code cell.\")"
      ],
      "metadata": {
        "colab": {
          "base_uri": "https://localhost:8080/"
        },
        "id": "Inlwv8K4oSak",
        "outputId": "d6a929d2-09b2-43cd-89f1-453b0bcc6bf9"
      },
      "execution_count": null,
      "outputs": [
        {
          "output_type": "stream",
          "name": "stdout",
          "text": [
            "\n"
          ]
        }
      ]
    },
    {
      "cell_type": "markdown",
      "source": [
        "## Create Credential And Config Files"
      ],
      "metadata": {
        "id": "hCpRahcTuqPD"
      }
    },
    {
      "cell_type": "code",
      "source": [
        "# FILE: /root/.aws/credentials\n",
        "credentials_content = f\"\"\"\n",
        "[default]\n",
        "aws_access_key_id = {aws_access_key_id}\n",
        "aws_secret_access_key = {aws_secret_access_key}\n",
        "\"\"\"\n",
        "\n",
        "with open(\"/root/.aws/credentials\", \"w\") as f:\n",
        "  f.write(credentials_content)\n",
        "\n",
        "# FILE: /root/.aws/config\n",
        "config_content = f\"\"\"\n",
        "[default]\n",
        "region = us-west-2\n",
        "\"\"\"\n",
        "\n",
        "with open(\"/root/.aws/config\", \"w\") as f:\n",
        "  f.write(config_content)"
      ],
      "metadata": {
        "id": "_PVRcQu6nNXN"
      },
      "execution_count": null,
      "outputs": []
    },
    {
      "cell_type": "markdown",
      "source": [
        "## Test Credentials"
      ],
      "metadata": {
        "id": "KsEri7LuuvoS"
      }
    },
    {
      "cell_type": "code",
      "source": [
        "import boto3\n",
        "import pprint\n",
        "\n",
        "try:\n",
        "    session = boto3.Session(profile_name='default')\n",
        "    sts_client = session.client('sts')\n",
        "    response = sts_client.get_caller_identity()\n",
        "    print(\"Authenticated\")\n",
        "except Exception as e:\n",
        "    print(f\"Error retrieving AWS identity: {e}\")"
      ],
      "metadata": {
        "id": "GI-Q0hiYjKSy",
        "colab": {
          "base_uri": "https://localhost:8080/"
        },
        "outputId": "021d3147-dbe0-43c7-c213-f6958640d638"
      },
      "execution_count": null,
      "outputs": [
        {
          "output_type": "stream",
          "name": "stdout",
          "text": [
            "Authenticated\n"
          ]
        }
      ]
    }
  ]
}
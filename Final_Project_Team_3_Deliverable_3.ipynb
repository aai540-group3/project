{
  "cells": [
    {
      "cell_type": "markdown",
      "metadata": {
        "id": "view-in-github",
        "colab_type": "text"
      },
      "source": [
        "<a href=\"https://colab.research.google.com/github/aai540-group3/project/blob/main/Final_Project_Team_3_Deliverable_3.ipynb\" target=\"_parent\"><img src=\"https://colab.research.google.com/assets/colab-badge.svg\" alt=\"Open In Colab\"/></a>"
      ]
    },
    {
      "cell_type": "code",
      "execution_count": 15,
      "metadata": {
        "colab": {
          "base_uri": "https://localhost:8080/"
        },
        "id": "gBp4uztViuf2",
        "outputId": "2567aada-d23a-4ff4-e9bd-3c9a4a284308"
      },
      "outputs": [
        {
          "output_type": "stream",
          "name": "stderr",
          "text": [
            "Audited 5 packages in 69ms\n"
          ]
        }
      ],
      "source": [
        "%%bash\n",
        "pip install --quiet --upgrade pip\n",
        "pip install --quiet --progress-bar=off uv\n",
        "uv pip install --system \\\n",
        "    datasets \\\n",
        "    pandas \\\n",
        "    numpy \\\n",
        "    scikit-learn \\\n",
        "    huggingface-hub[cli,hf_transfer]"
      ]
    },
    {
      "cell_type": "code",
      "source": [
        "import pandas as pd\n",
        "\n",
        "from datasets import load_dataset\n",
        "\n",
        "from sklearn.compose import ColumnTransformer\n",
        "from sklearn.impute import SimpleImputer\n",
        "from sklearn.linear_model import LogisticRegression\n",
        "from sklearn.metrics import (accuracy_score, precision_score, recall_score,\n",
        "                             roc_auc_score)\n",
        "from sklearn.model_selection import cross_val_score, train_test_split\n",
        "from sklearn.pipeline import Pipeline\n",
        "from sklearn.preprocessing import (OneHotEncoder,\n",
        "                                   PolynomialFeatures, StandardScaler)"
      ],
      "metadata": {
        "id": "8al4jpHeW-Gb"
      },
      "execution_count": 22,
      "outputs": []
    },
    {
      "cell_type": "code",
      "source": [
        "# Load dataset\n",
        "dataset = load_dataset(\"imodels/diabetes-readmission\", token=None)\n",
        "df = dataset['train'].to_pandas()"
      ],
      "metadata": {
        "id": "yn4bESrvW01K"
      },
      "execution_count": 23,
      "outputs": []
    },
    {
      "cell_type": "code",
      "source": [
        "# Split data\n",
        "X = df.drop(columns=['readmitted'])\n",
        "y = df['readmitted']\n",
        "X_train, X_test, y_train, y_test = train_test_split(X, y, test_size=0.2, random_state=42)"
      ],
      "metadata": {
        "id": "eIvO81IYZzPG"
      },
      "execution_count": 24,
      "outputs": []
    },
    {
      "cell_type": "code",
      "source": [
        "# Identify categorical and numerical columns dynamically\n",
        "categorical_cols = X_train.select_dtypes(include=['object', 'category']).columns.tolist()\n",
        "numerical_cols = X_train.select_dtypes(include=['int64', 'float64']).columns.tolist()\n",
        "\n",
        "# Preprocessing for numerical data\n",
        "numerical_transformer = Pipeline(steps=[\n",
        "    ('imputer', SimpleImputer(strategy='mean')),\n",
        "    ('scaler', StandardScaler())\n",
        "])\n",
        "\n",
        "# Preprocessing for categorical data\n",
        "categorical_transformer = Pipeline(steps=[\n",
        "    ('imputer', SimpleImputer(strategy='most_frequent')),\n",
        "    ('onehot', OneHotEncoder(handle_unknown='ignore'))\n",
        "])\n",
        "\n",
        "# Combine preprocessing for all columns\n",
        "preprocessor = ColumnTransformer(\n",
        "    transformers=[\n",
        "        ('num', numerical_transformer, numerical_cols),\n",
        "        ('cat', categorical_transformer, categorical_cols)\n",
        "    ])"
      ],
      "metadata": {
        "id": "1rA4zVCcZ3dj"
      },
      "execution_count": 25,
      "outputs": []
    },
    {
      "cell_type": "code",
      "execution_count": 26,
      "metadata": {
        "colab": {
          "base_uri": "https://localhost:8080/"
        },
        "id": "xiK3krEzsDFW",
        "outputId": "f2a50510-4314-4795-e00b-4d88b2490234"
      },
      "outputs": [
        {
          "output_type": "stream",
          "name": "stdout",
          "text": [
            "Initial Accuracy: 62.53%\n",
            "Initial Precision: 63.01%\n",
            "Initial Recall: 46.38%\n",
            "Initial ROC-AUC Score: 61.43%\n"
          ]
        }
      ],
      "source": [
        "# Logistic Regression model\n",
        "model = LogisticRegression(random_state=42, max_iter=1000)\n",
        "clf = Pipeline(steps=[('preprocessor', preprocessor), ('classifier', model)])\n",
        "\n",
        "# Fit initial model\n",
        "clf.fit(X_train, y_train)\n",
        "y_pred = clf.predict(X_test)\n",
        "\n",
        "# Initial evaluation\n",
        "accuracy = accuracy_score(y_test, y_pred)\n",
        "precision = precision_score(y_test, y_pred, average='binary')\n",
        "recall = recall_score(y_test, y_pred, average='binary')\n",
        "roc_auc = roc_auc_score(y_test, y_pred)\n",
        "\n",
        "print(f\"Initial Accuracy: {accuracy * 100:.2f}%\")\n",
        "print(f\"Initial Precision: {precision * 100:.2f}%\")\n",
        "print(f\"Initial Recall: {recall * 100:.2f}%\")\n",
        "print(f\"Initial ROC-AUC Score: {roc_auc * 100:.2f}%\")"
      ]
    },
    {
      "cell_type": "code",
      "source": [
        "# Polynomial Features for ALL Available Features\n",
        "interaction = PolynomialFeatures(degree=2, interaction_only=True, include_bias=False)\n",
        "X_interactions = interaction.fit_transform(X_train[numerical_cols])\n",
        "\n",
        "# Convert interaction terms into DataFrame and rename columns to avoid duplication\n",
        "interaction_columns = [f\"interaction_{i}\" for i in range(X_interactions.shape[1])]\n",
        "X_train_interactions = pd.DataFrame(X_interactions, columns=interaction_columns)\n",
        "\n",
        "# Concatenate original and interaction terms\n",
        "X_train_with_interactions = pd.concat([X_train.reset_index(drop=True), X_train_interactions], axis=1)\n",
        "\n",
        "# Retrain the model with all columns and interaction terms\n",
        "clf.fit(X_train_with_interactions, y_train)\n",
        "y_pred_improved = clf.predict(X_test)\n",
        "\n",
        "# Improved evaluation\n",
        "accuracy_improved = accuracy_score(y_test, y_pred_improved)\n",
        "precision_improved = precision_score(y_test, y_pred_improved, average='binary')\n",
        "recall_improved = recall_score(y_test, y_pred_improved, average='binary')\n",
        "roc_auc_improved = roc_auc_score(y_test, y_pred_improved)\n",
        "\n",
        "print(f\"Improved Accuracy: {accuracy_improved * 100:.2f}%\")\n",
        "print(f\"Improved Precision: {precision_improved * 100:.2f}%\")\n",
        "print(f\"Improved Recall: {recall_improved * 100:.2f}%\")\n",
        "print(f\"Improved ROC-AUC Score: {roc_auc_improved * 100:.2f}%\")\n",
        "\n",
        "# Cross-validation\n",
        "cross_val_scores = cross_val_score(clf, X_train_with_interactions, y_train, cv=5, scoring='accuracy')\n",
        "print(f\"Cross-Validation Accuracy after improvements: {cross_val_scores.mean() * 100:.2f}%\")"
      ],
      "metadata": {
        "colab": {
          "base_uri": "https://localhost:8080/"
        },
        "id": "o9UCQLrRZ6Hu",
        "outputId": "eac859e5-bd4b-4d1a-b6bc-8b51c0facff0"
      },
      "execution_count": 27,
      "outputs": [
        {
          "output_type": "stream",
          "name": "stdout",
          "text": [
            "Improved Accuracy: 62.53%\n",
            "Improved Precision: 63.01%\n",
            "Improved Recall: 46.38%\n",
            "Improved ROC-AUC Score: 61.43%\n",
            "Cross-Validation Accuracy after improvements: 62.73%\n"
          ]
        }
      ]
    }
  ],
  "metadata": {
    "colab": {
      "provenance": [],
      "machine_shape": "hm",
      "gpuType": "T4",
      "include_colab_link": true
    },
    "kernelspec": {
      "display_name": "Python 3",
      "name": "python3"
    },
    "language_info": {
      "codemirror_mode": {
        "name": "ipython",
        "version": 3
      },
      "file_extension": ".py",
      "mimetype": "text/x-python",
      "name": "python",
      "nbconvert_exporter": "python",
      "pygments_lexer": "ipython3",
      "version": "3.12.4"
    },
    "accelerator": "GPU"
  },
  "nbformat": 4,
  "nbformat_minor": 0
}
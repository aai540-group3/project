{
  "nbformat": 4,
  "nbformat_minor": 0,
  "metadata": {
    "colab": {
      "provenance": [],
      "authorship_tag": "ABX9TyNTQNDHiJ0iRrJd2rdWVhzd",
      "include_colab_link": true
    },
    "kernelspec": {
      "name": "python3",
      "display_name": "Python 3"
    },
    "language_info": {
      "name": "python"
    }
  },
  "cells": [
    {
      "cell_type": "markdown",
      "metadata": {
        "id": "view-in-github",
        "colab_type": "text"
      },
      "source": [
        "<a href=\"https://colab.research.google.com/github/aai540-group3/project/blob/main/openai_tts.ipynb\" target=\"_parent\"><img src=\"https://colab.research.google.com/assets/colab-badge.svg\" alt=\"Open In Colab\"/></a>"
      ]
    },
    {
      "cell_type": "code",
      "execution_count": null,
      "metadata": {
        "id": "xPQU9Z0SwoU2"
      },
      "outputs": [],
      "source": [
        "# @title { display-mode: \"form\" }\n",
        "# @markdown <br />\n",
        "# @markdown <center> <img src=\"https://upload.wikimedia.org/wikipedia/commons/e/ef/ChatGPT-Logo.svg\" height=150 width=150/> </center>\n",
        "# @markdown <br />\n",
        "# @markdown <center> <h1>OpenAI</h1></center>\n",
        "# @markdown <center> <h2>Text to Speech</h2></center>\n",
        "%pip install --upgrade --quiet --progress-bar=off gradio openai\n",
        "\n",
        "import gradio as gr\n",
        "import tempfile\n",
        "import openai\n",
        "\n",
        "def tts(input_text, model, voice, api_key):\n",
        "    openai.api_key = api_key\n",
        "    response = openai.audio.speech.create(\n",
        "        input=input_text,\n",
        "        voice=voice,\n",
        "        model=model\n",
        "    )\n",
        "    with tempfile.NamedTemporaryFile(suffix=\".mp3\", delete=False) as temp_file:\n",
        "        temp_file.write(response.content)\n",
        "        temp_file_path = temp_file.name\n",
        "    return temp_file_path\n",
        "\n",
        "model_options = [\"tts-1\", \"tts-1-hd\"]\n",
        "voice_options = [\"alloy\", \"echo\", \"fable\", \"onyx\", \"nova\", \"shimmer\"]\n",
        "\n",
        "with gr.Blocks(analytics_enabled=False) as demo:\n",
        "    with gr.Row():\n",
        "        with gr.Column(scale=1):\n",
        "            api_key_input = gr.Textbox(label=\"API Key\", type=\"password\")\n",
        "            model_dropdown = gr.Dropdown(choices=model_options, label=\"Model\", value=\"tts-1-hd\")\n",
        "            voice_dropdown = gr.Dropdown(choices=voice_options, label=\"Voice Options\", value=\"echo\")\n",
        "        with gr.Column(scale=2):\n",
        "            input_textbox = gr.Textbox(\n",
        "                label=\"Input Text\",\n",
        "                lines=10,\n",
        "                placeholder=\"Type your text here...\"\n",
        "            )\n",
        "            submit_button = gr.Button(\"Text-to-Speech\", variant=\"primary\")\n",
        "        with gr.Column(scale=1):\n",
        "            output_audio = gr.Audio(label=\"Output Audio\")\n",
        "\n",
        "    def on_convert_click(input_text, model, voice, api_key):\n",
        "        return tts(input_text, model, voice, api_key)\n",
        "\n",
        "    submit_button.click(\n",
        "        fn=on_convert_click,\n",
        "        inputs=[input_textbox, model_dropdown, voice_dropdown, api_key_input],\n",
        "        outputs=output_audio\n",
        "    )\n",
        "\n",
        "    input_textbox.submit(\n",
        "        fn=on_convert_click,\n",
        "        inputs=[input_textbox, model_dropdown, voice_dropdown, api_key_input],\n",
        "        outputs=output_audio\n",
        "    )\n",
        "\n",
        "demo.launch(debug=True, share=True)"
      ]
    }
  ]
}